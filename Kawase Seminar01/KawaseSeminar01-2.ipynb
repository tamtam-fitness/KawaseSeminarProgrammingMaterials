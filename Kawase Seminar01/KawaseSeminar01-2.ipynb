{
 "cells": [
  {
   "cell_type": "markdown",
   "metadata": {},
   "source": [
    "<p style=\"text-align:center\"><font size=\"10\" >Kawase Seminar 01- 2</font></p>"
   ]
  },
  {
   "cell_type": "markdown",
   "metadata": {},
   "source": [
    "# 2.1 if\n",
    "Pythonの条件分岐と言えばこれです。  \n",
    "「～文」と言われるものは全て構文となっており、必ず**:(コロン)**が文の最後につきます。  \n",
    "忘れやすいので注意しましょう。"
   ]
  },
  {
   "cell_type": "code",
   "execution_count": 81,
   "metadata": {},
   "outputs": [],
   "source": [
    "# TOEIC  の値を自由に変えて動きを確認してみましょう！\n",
    "TOEIC = 620 \n",
    "\n",
    "# 点数が600点以上の場合は'合格'\n",
    "if 600 <= TOEIC :\n",
    "    print('PE合格')\n",
    "\n",
    "# そうでない場合（→点数が７０点未満）は'不合格'\n",
    "else :\n",
    "    print('PE不合格')"
   ]
  },
  {
   "cell_type": "code",
   "execution_count": 82,
   "metadata": {},
   "outputs": [],
   "source": [
    "# and や or　を使うことで 複数条件を使うことができる。\n",
    "TOEIC = 620 \n",
    "absence = 2\n",
    "\n",
    "\n",
    "# 点数が600点以上かつ　absenceが3以下の場合は'合格'\n",
    "if 600 <= TOEIC  and absence <=  3:\n",
    "    print('PE合格')\n",
    "\n",
    "# そうでない場合（→点数が７０点未満）は'不合格'\n",
    "else :\n",
    "    print('PE不合格')"
   ]
  },
  {
   "cell_type": "code",
   "execution_count": 83,
   "metadata": {},
   "outputs": [],
   "source": [
    "# 3つ以上の分岐の場合はelifを用いる\n",
    "TOEIC = 620 \n",
    "absence = 2\n",
    "is_elarning_finished = False\n",
    "\n",
    "# 点数が600点以上かつ　absenceが3以下の場合は'合格'\n",
    "if 600 <= TOEIC  and absence <=  3 and is_elarning_finished :\n",
    "    print('PE合格')\n",
    "    \n",
    "elif 600 <= TOEIC  and absence <=  3 and not is_elarning_finished : \n",
    "    print('elarningだけ再履修')\n",
    "\n",
    "# そうでない場合（→点数が７０点未満）は'不合格'\n",
    "else :\n",
    "    print('PE不合格')"
   ]
  },
  {
   "cell_type": "code",
   "execution_count": 84,
   "metadata": {},
   "outputs": [],
   "source": [
    "# ifを組み合わせることでネスト(ifにifを重ねる)をすることもできる\n",
    "TOEIC = 620 \n",
    "absence = 2\n",
    "is_elarning_finifished = True\n",
    "\n",
    "# 点数が600点以上かつ　absenceが3以下の場合は'合格'\n",
    "if 600 <= TOEIC:\n",
    "    if is_elarning_finifished :\n",
    "        if absence  == 0:\n",
    "            print('PE合格', \"秀\")\n",
    "        elif absence  == 1:\n",
    "            print('PE合格', \"優\")\n",
    "        elif absence == 2:\n",
    "            print('PE合格', \"良\")\n",
    "        elif absence == 3:\n",
    "            print('PE合格', \"可\")\n",
    "        else:\n",
    "            print('出席不足', \"落単\")\n",
    "    else : \n",
    "        print('elarningだけ再履修', \"落単\")\n",
    "else :\n",
    "     print('PE不合格', \"落単\")"
   ]
  },
  {
   "cell_type": "markdown",
   "metadata": {},
   "source": [
    "---\n",
    "# 2.2 def 関数やメソッド"
   ]
  },
  {
   "cell_type": "markdown",
   "metadata": {},
   "source": [
    "  プログラミングには関数とメソッドが存在します。\n",
    "  まずは関数について説明します。"
   ]
  },
  {
   "cell_type": "markdown",
   "metadata": {},
   "source": [
    "## 関数"
   ]
  },
  {
   "cell_type": "markdown",
   "metadata": {},
   "source": [
    "関数は 、何か値を入れると中で計算処理が行われて値を返してくれるモノです。\n",
    "\n",
    "y = 3x のように、xの値を入れるとyの値が中で計算されて返ります。\n",
    "\n",
    "実際に作ってみましょう。"
   ]
  },
  {
   "cell_type": "markdown",
   "metadata": {},
   "source": [
    "### def 関数名() による関数の作成"
   ]
  },
  {
   "cell_type": "code",
   "execution_count": 15,
   "metadata": {},
   "outputs": [],
   "source": [
    "# 引数の二乗を返す関数名 f の作成 \n",
    "def func(x):\n",
    "    return x ** 2"
   ]
  },
  {
   "cell_type": "code",
   "execution_count": 85,
   "metadata": {},
   "outputs": [],
   "source": [
    "print(func(4))"
   ]
  },
  {
   "cell_type": "code",
   "execution_count": 17,
   "metadata": {},
   "outputs": [],
   "source": [
    "# 引数や戻り値は無くてもよい\n",
    "def call():\n",
    "    print(\"Hello World\")"
   ]
  },
  {
   "cell_type": "code",
   "execution_count": 14,
   "metadata": {},
   "outputs": [],
   "source": [
    "# デフォルトで引数を指定することも可能\n",
    "def call_name(name = \"kawase\"):\n",
    "    #formatの記法 f\"{}\"\n",
    "    print(f\"Hello {name}\")"
   ]
  },
  {
   "cell_type": "code",
   "execution_count": 86,
   "metadata": {},
   "outputs": [],
   "source": [
    "call_name()"
   ]
  },
  {
   "cell_type": "code",
   "execution_count": 21,
   "metadata": {},
   "outputs": [],
   "source": [
    "# 関数の入れ子(再起関数)なども作成可能\n",
    "# 再起関数を使った引数 n の階乗を返す関数\n",
    "def factorial(n):\n",
    "    if n == 1:\n",
    "        return 1\n",
    "    return n * factorial(n-1)"
   ]
  },
  {
   "cell_type": "code",
   "execution_count": 87,
   "metadata": {},
   "outputs": [],
   "source": [
    "# 5! = 1*2*3*4*5\n",
    "factorial(5)"
   ]
  },
  {
   "cell_type": "markdown",
   "metadata": {},
   "source": [
    "### 関数との付き合い方\n",
    "先ほどの通り、関数は 何か値を入れると中で計算処理が行われて値を返してくれるモノです。\n",
    "\n",
    "y = 3x のように、xの値を入れるとyの値が中で計算されて返ります。\n",
    "\n",
    "y = 3x^2 - 4x^3 + 2 などの複雑な関数もxを入れるだけでyの値が返ります。\n",
    "\n",
    "関数の中の処理を深く理解していなくても値を出力してくれるので、\n",
    "\n",
    "**他人の関数**を使用する場合はどのような値を入れればどのような値が返るかだけ知るだけで十分です！！！"
   ]
  },
  {
   "cell_type": "markdown",
   "metadata": {},
   "source": [
    "---\n",
    "## メソッド\n",
    "メソッドは特定の型によって行うことができる振る舞い(関数)のことです（詳しくはKawase Seminar ０２-1　で説明します）。\n",
    "\n",
    "type(10) は intと表記されるように、値にはからなず型がありますが、その型が使える振る舞い(関数)もそれぞれであります。\n",
    "    \n",
    " イメージ、文字は計算できないけど数値は計算できる、みたいな感じです。"
   ]
  },
  {
   "cell_type": "code",
   "execution_count": 88,
   "metadata": {},
   "outputs": [],
   "source": [
    "# リストのメソッドを呼び出します。\n",
    "# リストに要素を追加する[ list型 appendメソッド ]\n",
    "method1 = [0, 1, 2, 3]\n",
    "# リストはappendというメソッド(関数のようなモノ)を使うことができる\n",
    "method1.append(4)\n",
    "print(method1)"
   ]
  },
  {
   "cell_type": "code",
   "execution_count": 89,
   "metadata": {},
   "outputs": [],
   "source": [
    "# append メソッドではリストや関数も追加可能\n",
    "method2 = [0, 1]\n",
    "method2.append([0, 1])\n",
    "print(method2)"
   ]
  },
  {
   "cell_type": "code",
   "execution_count": 90,
   "metadata": {},
   "outputs": [],
   "source": [
    "# 文字列を特定の文字で分割してリスト型に変換する[ str型 splitメソッド ]\n",
    "# ※ split メソッドは戻り値として配列を返すので、変数自体に変化はない\n",
    "method3 = \"Hello World\"\n",
    "method3.split(\"o\")"
   ]
  },
  {
   "cell_type": "code",
   "execution_count": 91,
   "metadata": {},
   "outputs": [],
   "source": [
    "# split メソッドは何も指定しない場合、半角スペースで区切る\n",
    "method3.split()"
   ]
  },
  {
   "cell_type": "code",
   "execution_count": 38,
   "metadata": {},
   "outputs": [
    {
     "name": "stdout",
     "output_type": "stream",
     "text": [
      "Help on method_descriptor:\n",
      "\n",
      "append(self, object, /)\n",
      "    Append object to the end of the list.\n",
      "\n"
     ]
    }
   ],
   "source": [
    "# 関数やメソッドの詳細については help 関数を使用する\n",
    "help(list.append)"
   ]
  },
  {
   "cell_type": "markdown",
   "metadata": {},
   "source": [
    "### list型の使用とメソッド"
   ]
  },
  {
   "cell_type": "code",
   "execution_count": 92,
   "metadata": {},
   "outputs": [],
   "source": [
    "# 情報の追加① [ list型 appendメソッド ]\n",
    "list1 = [0, 1, 2]\n",
    "\n",
    "# 引数に追加したい情報を記入\n",
    "list1.append(3)\n",
    "print(\"list1 =\", list1)"
   ]
  },
  {
   "cell_type": "code",
   "execution_count": 93,
   "metadata": {},
   "outputs": [],
   "source": [
    "# 情報の追加② [ list型 insertメソッド ]\n",
    "list2 = [\"a\", \"b\", \"d\"]\n",
    "\n",
    "# 第１引数に挿入する要素番号、第２引数に挿入する情報を記入\n",
    "list2.insert(2, \"c\")\n",
    "print(\"list2 =\", list2)"
   ]
  },
  {
   "cell_type": "code",
   "execution_count": 1,
   "metadata": {},
   "outputs": [
    {
     "name": "stdout",
     "output_type": "stream",
     "text": [
      "list3 = [0, 1, 2, 3]\n",
      "-----------\n",
      "list3 = [0, 1, 2, 3, 4, 5]\n"
     ]
    }
   ],
   "source": [
    "# 情報の結合 [ list型 extendメソッド ]\n",
    "list3 = [0, 1]\n",
    "\n",
    "# 引数に結合したいリストを記入する\n",
    "list3.extend([2, 3])\n",
    "print(\"list3 =\", list3)\n",
    "\n",
    "print(\"-----------\")\n",
    "# 普段は演算子 + ,  += を使用する\n",
    "list3 += [4, 5]\n",
    "print(\"list3 =\", list3)"
   ]
  },
  {
   "cell_type": "code",
   "execution_count": 95,
   "metadata": {},
   "outputs": [],
   "source": [
    "# 情報の整理 [ list型 sortメソッド ]\n",
    "list4 = [0, 3, 6, 8, 2, 1, 7, 4, 5, 9]\n",
    "\n",
    "# 引数に何も設定していない場合昇順になる\n",
    "list4.sort()\n",
    "print(\"list4 =\", list4)\n",
    "\n",
    "print(\"-----------\")\n",
    "# 引数に reverse = True を記入すると降順となる\n",
    "list4.sort(reverse = True)\n",
    "print(\"new_list4 =\", list4)"
   ]
  },
  {
   "cell_type": "code",
   "execution_count": 96,
   "metadata": {},
   "outputs": [],
   "source": [
    "# 情報の個数 [ list型 countメソッド ]\n",
    "list5 = [\"1\", \"2\", \"2\", \"3\", \"3\", \"3\", \"4\", \"4\", \"4\", \"4\", \"5\", \"5\", \"5\", \"5\", \"5\"]\n",
    "\n",
    "# 引数に個数を調べたい情報を記入\n",
    "# 戻り値として個数が返ってくる\n",
    "print(list5.count(\"3\"))"
   ]
  },
  {
   "cell_type": "code",
   "execution_count": 97,
   "metadata": {},
   "outputs": [],
   "source": [
    "# 情報の位置 [ list型 indexメソッド ]\n",
    "list6 = [0, 1, 2, 3, 4, 5, 6, 7, 8, 9, 0]\n",
    "\n",
    "# 第１引数に位置(index)を調べたい情報を記入\n",
    "# 戻り値として個数が返ってくる(複数ある場合、最も小さい index が返る)\n",
    "print(list6.index(0))\n",
    "\n",
    "print(\"-------------\")\n",
    "# 第２引数と第３引数はリストの start 位置と end 位置の情報を記入する\n",
    "print(list6.index(0, 1, 11))"
   ]
  },
  {
   "cell_type": "code",
   "execution_count": 47,
   "metadata": {
    "collapsed": true
   },
   "outputs": [
    {
     "name": "stdout",
     "output_type": "stream",
     "text": [
      "Help on class list in module builtins:\n",
      "\n",
      "class list(object)\n",
      " |  list(iterable=(), /)\n",
      " |  \n",
      " |  Built-in mutable sequence.\n",
      " |  \n",
      " |  If no argument is given, the constructor creates a new empty list.\n",
      " |  The argument must be an iterable if specified.\n",
      " |  \n",
      " |  Methods defined here:\n",
      " |  \n",
      " |  __add__(self, value, /)\n",
      " |      Return self+value.\n",
      " |  \n",
      " |  __contains__(self, key, /)\n",
      " |      Return key in self.\n",
      " |  \n",
      " |  __delitem__(self, key, /)\n",
      " |      Delete self[key].\n",
      " |  \n",
      " |  __eq__(self, value, /)\n",
      " |      Return self==value.\n",
      " |  \n",
      " |  __ge__(self, value, /)\n",
      " |      Return self>=value.\n",
      " |  \n",
      " |  __getattribute__(self, name, /)\n",
      " |      Return getattr(self, name).\n",
      " |  \n",
      " |  __getitem__(...)\n",
      " |      x.__getitem__(y) <==> x[y]\n",
      " |  \n",
      " |  __gt__(self, value, /)\n",
      " |      Return self>value.\n",
      " |  \n",
      " |  __iadd__(self, value, /)\n",
      " |      Implement self+=value.\n",
      " |  \n",
      " |  __imul__(self, value, /)\n",
      " |      Implement self*=value.\n",
      " |  \n",
      " |  __init__(self, /, *args, **kwargs)\n",
      " |      Initialize self.  See help(type(self)) for accurate signature.\n",
      " |  \n",
      " |  __iter__(self, /)\n",
      " |      Implement iter(self).\n",
      " |  \n",
      " |  __le__(self, value, /)\n",
      " |      Return self<=value.\n",
      " |  \n",
      " |  __len__(self, /)\n",
      " |      Return len(self).\n",
      " |  \n",
      " |  __lt__(self, value, /)\n",
      " |      Return self<value.\n",
      " |  \n",
      " |  __mul__(self, value, /)\n",
      " |      Return self*value.\n",
      " |  \n",
      " |  __ne__(self, value, /)\n",
      " |      Return self!=value.\n",
      " |  \n",
      " |  __repr__(self, /)\n",
      " |      Return repr(self).\n",
      " |  \n",
      " |  __reversed__(self, /)\n",
      " |      Return a reverse iterator over the list.\n",
      " |  \n",
      " |  __rmul__(self, value, /)\n",
      " |      Return value*self.\n",
      " |  \n",
      " |  __setitem__(self, key, value, /)\n",
      " |      Set self[key] to value.\n",
      " |  \n",
      " |  __sizeof__(self, /)\n",
      " |      Return the size of the list in memory, in bytes.\n",
      " |  \n",
      " |  append(self, object, /)\n",
      " |      Append object to the end of the list.\n",
      " |  \n",
      " |  clear(self, /)\n",
      " |      Remove all items from list.\n",
      " |  \n",
      " |  copy(self, /)\n",
      " |      Return a shallow copy of the list.\n",
      " |  \n",
      " |  count(self, value, /)\n",
      " |      Return number of occurrences of value.\n",
      " |  \n",
      " |  extend(self, iterable, /)\n",
      " |      Extend list by appending elements from the iterable.\n",
      " |  \n",
      " |  index(self, value, start=0, stop=9223372036854775807, /)\n",
      " |      Return first index of value.\n",
      " |      \n",
      " |      Raises ValueError if the value is not present.\n",
      " |  \n",
      " |  insert(self, index, object, /)\n",
      " |      Insert object before index.\n",
      " |  \n",
      " |  pop(self, index=-1, /)\n",
      " |      Remove and return item at index (default last).\n",
      " |      \n",
      " |      Raises IndexError if list is empty or index is out of range.\n",
      " |  \n",
      " |  remove(self, value, /)\n",
      " |      Remove first occurrence of value.\n",
      " |      \n",
      " |      Raises ValueError if the value is not present.\n",
      " |  \n",
      " |  reverse(self, /)\n",
      " |      Reverse *IN PLACE*.\n",
      " |  \n",
      " |  sort(self, /, *, key=None, reverse=False)\n",
      " |      Sort the list in ascending order and return None.\n",
      " |      \n",
      " |      The sort is in-place (i.e. the list itself is modified) and stable (i.e. the\n",
      " |      order of two equal elements is maintained).\n",
      " |      \n",
      " |      If a key function is given, apply it once to each list item and sort them,\n",
      " |      ascending or descending, according to their function values.\n",
      " |      \n",
      " |      The reverse flag can be set to sort in descending order.\n",
      " |  \n",
      " |  ----------------------------------------------------------------------\n",
      " |  Static methods defined here:\n",
      " |  \n",
      " |  __new__(*args, **kwargs) from builtins.type\n",
      " |      Create and return a new object.  See help(type) for accurate signature.\n",
      " |  \n",
      " |  ----------------------------------------------------------------------\n",
      " |  Data and other attributes defined here:\n",
      " |  \n",
      " |  __hash__ = None\n",
      "\n"
     ]
    }
   ],
   "source": [
    "# その他のメソッドについては help(list) を参照\n",
    "help(list)"
   ]
  },
  {
   "cell_type": "markdown",
   "metadata": {},
   "source": [
    "# 2.3 Tuple型\n",
    "tupleは追加・更新・削除が行えないlistです(変数自体の結合や削除は可能)。\n",
    "\n",
    "tupleのように変数の中の値を操作できないことをイミュータブルと言います。"
   ]
  },
  {
   "cell_type": "code",
   "execution_count": 98,
   "metadata": {},
   "outputs": [],
   "source": [
    "# 情報の結合\n",
    "tuple1_1 = (0, )\n",
    "tuple1_2 = (1, )\n",
    "\n",
    "# タプルの結合は演算子のみである\n",
    "tuple1 = tuple1_1 + tuple1_2\n",
    "print(\"tuple1 =\", tuple1)"
   ]
  },
  {
   "cell_type": "code",
   "execution_count": null,
   "metadata": {},
   "outputs": [],
   "source": [
    "# 情報の個数[ tuple型 countメソッド ]\n",
    "tuple2 = (0, 0, 0, 1, 2, 3, 4)\n",
    "\n",
    "# メソッド自体は list型 と同じ\n",
    "print(tuple2.count(0))"
   ]
  },
  {
   "cell_type": "code",
   "execution_count": null,
   "metadata": {
    "scrolled": true
   },
   "outputs": [],
   "source": [
    "# 情報の個数 [ tuple型 indexメソッド ]\n",
    "tuple3 = (0, 1, 1, 2, 2, 2, 3, 3, 3, 3, 4, 4, 4, 4, 4, 5, 5, 5, 5, 5, 5)\n",
    "\n",
    "# メソッド自体は list型 と同じ\n",
    "print(tuple3.index(3))"
   ]
  },
  {
   "cell_type": "code",
   "execution_count": null,
   "metadata": {},
   "outputs": [],
   "source": [
    "# タプル型は制約が強いため、メソッドが少ない\n",
    "# help(tuple) を参照\n",
    "help(tuple)"
   ]
  },
  {
   "cell_type": "markdown",
   "metadata": {},
   "source": [
    "# 2.4 Set型"
   ]
  },
  {
   "cell_type": "markdown",
   "metadata": {},
   "source": [
    "「情報 A 群と情報 B 群で共通しているものだけ取得せよ。」と言われた場合\n",
    "\n",
    "リストまたはタプルだとそれに特化したメソッドや仕組みを持っていません。\n",
    "\n",
    "セット(set)は数学で学ぶ集合と同じ概念で、\n",
    "\n",
    "和集合や差集合などの概念を持っている型です。"
   ]
  },
  {
   "cell_type": "markdown",
   "metadata": {},
   "source": [
    "### Set型の作成"
   ]
  },
  {
   "cell_type": "code",
   "execution_count": 99,
   "metadata": {},
   "outputs": [],
   "source": [
    "# セットの作成は set関数 もしくは {}演算子 を使う\n",
    "set0_1 = set()\n",
    "print(\"set0_1 =\", set0_1)\n",
    "\n",
    "# ほかの型をセットに変換\n",
    "set0_2 = set([1, 2, 3, 4, 5])\n",
    "print(\"set0_2 =\", set0_2)\n",
    "\n",
    "# {}演算子を使用\n",
    "# セット型では同一要素を複数持つことはない\n",
    "set0_3 = {0, 1, 1, 2, 2, 2, 3, 3, 3, 3, 4, 4, 4, 4, 4, 5, 5, 5, 5, 5, 5}\n",
    "print(\"set0_3 =\", set0_3)"
   ]
  },
  {
   "cell_type": "code",
   "execution_count": null,
   "metadata": {},
   "outputs": [],
   "source": [
    "# セットは index の概念がないので index での取り出しが不可能\n",
    "# 下記はエラーとなる\n",
    "set0_3[0]"
   ]
  },
  {
   "cell_type": "markdown",
   "metadata": {},
   "source": [
    "### Set型の演算子・メソッド"
   ]
  },
  {
   "cell_type": "code",
   "execution_count": 100,
   "metadata": {},
   "outputs": [],
   "source": [
    "# 集合の要素の追加 [ set型 addメソッド ]\n",
    "set_ = {0}\n",
    "\n",
    "# 引数に追加したい情報を記入\n",
    "set_.add(1)\n",
    "print(\"set_ =\", set_)"
   ]
  },
  {
   "cell_type": "code",
   "execution_count": 101,
   "metadata": {},
   "outputs": [],
   "source": [
    "# セットの和集合 [ set型 unionメソッド ][|演算子] A OR B\n",
    "set1_1 = {0, 1, 2, 3, 4}\n",
    "set1_2 = {3, 4, 5, 6, 7}\n",
    "\n",
    "# 引数にセットを記入すると戻り値として和集合を返す\n",
    "set1 = set1_1.union(set1_2)\n",
    "print(\"set1 =\", set1)\n",
    "\n",
    "print(\"-----------\")\n",
    "# 演算子として | を使用しても同じ結果となる\n",
    "set1 = set1_1 | set1_2\n",
    "print(\"set1 =\", set1)"
   ]
  },
  {
   "cell_type": "code",
   "execution_count": 102,
   "metadata": {},
   "outputs": [],
   "source": [
    "# セットの積集合[ set型 intersectionメソッド ][&演算子]  A AND B\n",
    "set2_1 = {0, 1, 2, 3, 4}\n",
    "set2_2 = {3, 4, 5, 6, 7}\n",
    "\n",
    "# 引数にセットを記入すると戻り値として積集合を返す\n",
    "set2 = set2_1.intersection(set2_2)\n",
    "print(\"set2 =\", set2)\n",
    "\n",
    "print(\"-----------\")\n",
    "# 演算子として & を使用しても同じ結果となる\n",
    "set2 = set2_1 & set2_2\n",
    "print(\"set2 =\", set2)"
   ]
  },
  {
   "cell_type": "code",
   "execution_count": 103,
   "metadata": {},
   "outputs": [],
   "source": [
    "# セットの差集合[ set型 unionメソッド ]　　notA OR  notB\n",
    "set3_1 = {0, 1, 2, 3, 4}\n",
    "set3_2 = {3, 4, 5, 6, 7}\n",
    "\n",
    "# 引数にセットを記入すると戻り値として差集合を返す\n",
    "set3_1_ = set3_1.difference(set3_2)\n",
    "set3_2_ = set3_2.difference(set3_1)\n",
    "print(\"set3_1_ =\", set3_1_)\n",
    "print(\"set3_2_ =\", set3_2_)\n",
    "\n",
    "print(\"-----------\")\n",
    "# 演算子として - を使用しても同じ結果となる\n",
    "set3_1_ = set3_1 - set3_2\n",
    "set3_2_ = set3_2 - set3_1\n",
    "print(\"set3_1_ =\", set3_1_)\n",
    "print(\"set3_2_ =\", set3_2_)"
   ]
  },
  {
   "cell_type": "code",
   "execution_count": null,
   "metadata": {},
   "outputs": [],
   "source": [
    "# セットの排他的論理和集合[ set型 symmetric_differenceメソッド ]　A XOR B\n",
    "set4_1 = {0, 1, 2, 3, 4}\n",
    "set4_2 = {3, 4, 5, 6, 7}\n",
    "\n",
    "# 引数にセットを記入すると戻り値として排他的論理和集合を返す\n",
    "set4 = set4_1.symmetric_difference(set4_2)\n",
    "print(\"set4 =\", set4)\n",
    "\n",
    "print(\"-----------\")\n",
    "# 演算子として ^ を使用しても同じ結果となる\n",
    "set4 = set4_1 ^ set4_2\n",
    "print(\"set4 =\", set4)"
   ]
  },
  {
   "cell_type": "code",
   "execution_count": null,
   "metadata": {},
   "outputs": [],
   "source": [
    "# セット型は他であまり使われないメソッドや演算子を持っている\n",
    "# 詳しくは help(set) を参照\n",
    "help(set)"
   ]
  },
  {
   "cell_type": "markdown",
   "metadata": {},
   "source": [
    "# 2.5 dict型"
   ]
  },
  {
   "cell_type": "markdown",
   "metadata": {},
   "source": [
    "リスト(list)やタプル(tuple)だと、どこに何の情報を保存したかが分からなくなることがあります。\n",
    "\n",
    "しかしディクト(dict)では、インデックス(index)の代わりにキー(key)と呼ばれるものを使い、キー(key)毎に対応したバリュー(value)を持ちます。\n",
    "\n",
    "バリューを呼び出す際はインデックスではなくキーを入力することで呼び出すことができます。まさに辞書のように使用することが可能です。\n",
    "\n",
    "(アルゴリズム的にlistより処理が早い場合が多くコーディング試験で使う人が多い型です)"
   ]
  },
  {
   "cell_type": "markdown",
   "metadata": {},
   "source": [
    "### dict型の作成"
   ]
  },
  {
   "cell_type": "code",
   "execution_count": 104,
   "metadata": {},
   "outputs": [],
   "source": [
    "# ディクトの作成\n",
    "# コロンの左側はキー、右側はバリューと呼ばれている\n",
    "dict1 = {\"a\":\"エー\", \"b\":\"ビー\", \"c\":\"シー\"}\n",
    "print(dict1)"
   ]
  },
  {
   "cell_type": "code",
   "execution_count": 105,
   "metadata": {},
   "outputs": [],
   "source": [
    "# ディクトのバリューの取り出し\n",
    "# キーを記入することでバリューを取得できる\n",
    "print(dict1[\"a\"])"
   ]
  },
  {
   "cell_type": "code",
   "execution_count": 106,
   "metadata": {},
   "outputs": [],
   "source": [
    "# 情報の追加・更新\n",
    "# 追加・更新したいキーとバリューを設定するだけ\n",
    "dict2 = {\"a\":\"エー\", \"b\":\"ビー\", \"c\":\"シー\"}\n",
    "dict2[\"d\"] = \"ディー\"\n",
    "print(\"dict2 =\", dict2)\n",
    "\n",
    "dict2[\"d\"] = \"でぃー\"\n",
    "print(\"dict2 =\", dict2)"
   ]
  },
  {
   "cell_type": "code",
   "execution_count": 107,
   "metadata": {},
   "outputs": [],
   "source": [
    "# ディクトの結合 [ dict型 updateメソッド ]\n",
    "dict3 = {\"a\":\"エー\", \"b\":\"ビー\", \"c\":\"シー\", \"d\":\"ディー\"}\n",
    "dict3.update({\"e\":\"イー\", \"f\":\"エフ\"})\n",
    "print(\"dict3 =\", dict3)"
   ]
  },
  {
   "cell_type": "code",
   "execution_count": 108,
   "metadata": {
    "scrolled": true
   },
   "outputs": [],
   "source": [
    "# キーの取得 [ dict型 keysメソッド ]\n",
    "dict4 = {\"a\":\"エー\", \"b\":\"ビー\", \"c\":\"シー\", \"d\":\"ディー\", \"e\":\"イー\", \"f\":\"エフ\"}\n",
    "\n",
    "# ディクトのキーのみを dict_keys型 で戻り値として返す\n",
    "print(\"Keys =\", dict4.keys())\n",
    "print(\"Keys_type =\", type(dict4.keys()))"
   ]
  },
  {
   "cell_type": "code",
   "execution_count": 109,
   "metadata": {},
   "outputs": [],
   "source": [
    "# バリューの取得 [ dict型 valuesメソッド ]\n",
    "dict5 = {\"a\":\"エー\", \"b\":\"ビー\", \"c\":\"シー\", \"d\":\"ディー\", \"e\":\"イー\", \"f\":\"エフ\"}\n",
    "\n",
    "# ディクトのバリューのみを dict_values型 で戻り値として返す\n",
    "print(\"Values =\", dict5.values())\n",
    "print(\"Values_type =\", type(dict5.values()))"
   ]
  },
  {
   "cell_type": "code",
   "execution_count": 110,
   "metadata": {},
   "outputs": [],
   "source": [
    "# 全情報の取得 [ dict型 itemsメソッド ]\n",
    "dict5 = {\"a\":\"エー\", \"b\":\"ビー\", \"c\":\"シー\", \"d\":\"ディー\", \"e\":\"イー\", \"f\":\"エフ\"}\n",
    "\n",
    "# ディクトのキー、バリューすべてを dict_items型 で戻り値として返す\n",
    "print(\"Items =\", dict5.items())\n",
    "print(\"Items_type =\", type(dict5.items()))"
   ]
  },
  {
   "cell_type": "code",
   "execution_count": null,
   "metadata": {},
   "outputs": [],
   "source": [
    "# セット型は他であまり使われないメソッドや演算子を持っている\n",
    "# 詳しくは help(dict) を参照\n",
    "help(dict)"
   ]
  },
  {
   "cell_type": "markdown",
   "metadata": {},
   "source": [
    "---\n",
    "# Exercise 01-2 問題"
   ]
  },
  {
   "cell_type": "markdown",
   "metadata": {},
   "source": [
    "### (1) 異なる型の判定\n",
    "\n",
    "```python\n",
    "int_n = 10\n",
    "str_n = \"10\"\n",
    "この時 int_n と str_n は同値かどうか調べよ。\n",
    "```"
   ]
  },
  {
   "cell_type": "code",
   "execution_count": 72,
   "metadata": {},
   "outputs": [],
   "source": [
    "int_n = 10\n",
    "str_n = \"10\"\n",
    "# ここに記述せよ"
   ]
  },
  {
   "cell_type": "markdown",
   "metadata": {},
   "source": [
    "### (2)入力、条件分岐 (or ソート)、リスト格納\n",
    "\n",
    "```python\n",
    "list15 = []\n",
    "n1 = input(\"整数①を入れてください：\")\n",
    "n2 = input(\"整数②を入れてください：\")\n",
    "この時 n1 と n2 を昇順で list15 に保存せよ。(例： 10 と 5を入力したとき [5, 10]が list15 に格納される)\n",
    "```"
   ]
  },
  {
   "cell_type": "code",
   "execution_count": null,
   "metadata": {},
   "outputs": [],
   "source": [
    "list15 = []\n",
    "n1 = input(\"整数①を入れてください：\")\n",
    "n2 = input(\"整数②を入れてください：\")\n",
    "# ここに記述せよ"
   ]
  },
  {
   "cell_type": "markdown",
   "metadata": {},
   "source": [
    "### (3) 関数の作成\n",
    "\n",
    "```python\n",
    "list型 で表された点の、２点間の距離を求める関数を作成せよ。\n",
    "(例①：第１引数に [0, 1]、第２引数に [1, 0] を入力した場合  \n",
    "    　 戻り値として 1.4142135623730951 が返ってくる)\n",
    "\n",
    "＊求め方としてマンハッタン法やユークリッド法などがある\n",
    "```\n"
   ]
  },
  {
   "cell_type": "code",
   "execution_count": null,
   "metadata": {},
   "outputs": [],
   "source": [
    "# ここに記述せよ"
   ]
  },
  {
   "cell_type": "markdown",
   "metadata": {},
   "source": [
    "set, dict周りは次回の問題で扱います!!!"
   ]
  },
  {
   "cell_type": "markdown",
   "metadata": {},
   "source": [
    "---\n",
    "### (4)Tamura Challenge①\n",
    "\n",
    "```python\n",
    "\n",
    "index番号\"n\"(int型)を入れるとフィボナッチ数列(1, 1, 2 , 3, 5, 8, 13 ....)の値(int型)を返す関数を作成せよ。\n",
    "\n",
    "例) n = 4 を入れると、 3 (1, 1, 2, 3) を返す\n",
    "```\n"
   ]
  },
  {
   "cell_type": "code",
   "execution_count": null,
   "metadata": {},
   "outputs": [],
   "source": [
    "# ここに記述せよ"
   ]
  },
  {
   "cell_type": "markdown",
   "metadata": {},
   "source": [
    "### (5)Tamura Challenge②\n",
    "```python\n",
    "\n",
    "回文\"words\"(str型)を入れると回文かどうか真偽値(bool型)を返す関数を作成せよ。\n",
    "\n",
    "例) words = \"たけやぶやけた\"　を入れると True を返す\n",
    "```"
   ]
  },
  {
   "cell_type": "code",
   "execution_count": null,
   "metadata": {},
   "outputs": [],
   "source": [
    "# ここに記述せよ"
   ]
  },
  {
   "cell_type": "markdown",
   "metadata": {},
   "source": [
    "### (6)Tamura Challenge③\n",
    "寿司打3000円コースでブラインドタッチでプラスを取れ 。リンクはこちら->\n",
    "http://typingx0.net/sushida/"
   ]
  },
  {
   "cell_type": "markdown",
   "metadata": {},
   "source": [
    "---\n",
    "---\n",
    "---\n",
    "# これでも終わってしまった方は下のアルゴリズム問題をどうぞ、、！w\n",
    "答えを知りたい方は田村に連絡を！"
   ]
  },
  {
   "cell_type": "markdown",
   "metadata": {},
   "source": [
    "\n",
    "### (7)Tamura Ultimate①\n",
    "\n",
    "【文字列問題】\n",
    "```python\n",
    "半角英数字で構成された文字列(大/小文字含む)を引数に渡されたとき\n",
    "数字と大文字と小文字を区別して \"(数字群)(大文字群)(小文字群)\" に並べ替えて返す関数を作成せよ\n",
    "(例：\"1Aa2Bb3Cc\" → \"123ABCabc\")\n",
    "```\n",
    "\n"
   ]
  },
  {
   "cell_type": "code",
   "execution_count": null,
   "metadata": {},
   "outputs": [],
   "source": [
    "# ここに記述せよ"
   ]
  },
  {
   "cell_type": "markdown",
   "metadata": {},
   "source": [
    "### (8)Tamura Ultimate②\n",
    "```python\n",
    "【アナグラム問題】\n",
    "\n",
    "word1(str)とword2(str)を入力して比較し、アナグラムかどうか真偽値を返す関数を作成せよ。\n",
    "例) word1 = \"star\" と  word2 = \"rats\" を入力すると True を返す\n",
    "```\n"
   ]
  },
  {
   "cell_type": "code",
   "execution_count": 78,
   "metadata": {},
   "outputs": [],
   "source": [
    "# ここに記述せよ"
   ]
  },
  {
   "cell_type": "markdown",
   "metadata": {},
   "source": [
    "### (9)Tamura Ultimate③\n",
    "\n",
    "【再帰的要素取り出し】\n",
    "\n",
    "```python\n",
    "配列の要素を「全て」出力する関数を作成せよ\n",
    "(例①：引数 → [0, [1], 2, [3, [4, 5], 6]]\n",
    "     出力値 → 0 1 2 3 4 5 6\n",
    " 例②：引数 → [[0, [1], [2, [3, [4, 5]], 6], 7], 8, 9]\n",
    "     出力値 → 0 1 2 3 4 5 6 7 8 9\n",
    " 例③：引数 → [[0], [1], [2], [3, [4, 5]]]\n",
    "     出力値 → 0 1 2 3 4 5\n",
    ")\n",
    "```"
   ]
  },
  {
   "cell_type": "code",
   "execution_count": 80,
   "metadata": {},
   "outputs": [],
   "source": [
    "# ここに記述せよ\n"
   ]
  }
 ],
 "metadata": {
  "kernelspec": {
   "display_name": "Python 3",
   "language": "python",
   "name": "python3"
  },
  "language_info": {
   "codemirror_mode": {
    "name": "ipython",
    "version": 3
   },
   "file_extension": ".py",
   "mimetype": "text/x-python",
   "name": "python",
   "nbconvert_exporter": "python",
   "pygments_lexer": "ipython3",
   "version": "3.8.8"
  }
 },
 "nbformat": 4,
 "nbformat_minor": 4
}
